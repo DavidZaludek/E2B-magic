{
  "cells": [
    {
      "cell_type": "markdown",
      "metadata": {},
      "source": [
        "# Code Interpreting with GPT-4o\n",
        "This example uses the E2B's [Code Interpreter](https://github.com/e2b-dev/code-interpreter) as a tool for GPT-4o. We ask GPT-4o to show a chart which means GPT will generate Python code that will get sent to E2B, we display the chart and then ask GPT-4o to reason about the generated chart and create a new chart."
      ]
    },
    {
      "cell_type": "code",
      "execution_count": 1,
      "metadata": {
        "colab": {
          "base_uri": "https://localhost:8080/"
        },
        "id": "5kS-plOSMWnS",
        "outputId": "40488472-d554-4aea-fb75-5699c2bdd725"
      },
      "outputs": [],
      "source": [
        "# %pip install openai e2b_code_interpreter==1.0.0"
      ]
    },
    {
      "cell_type": "code",
      "execution_count": 2,
      "metadata": {
        "id": "locUMi_ANJek"
      },
      "outputs": [],
      "source": [
        "# Get your API keys or save them to .env file.\n",
        "import os\n",
        "from dotenv import load_dotenv\n",
        "load_dotenv()\n",
        "\n",
        "# TODO: Get your OpenAI API key\n",
        "OPENAI_API_KEY = os.getenv(\"OPENAI_API_KEY\")\n",
        "\n",
        "# TODO: Get your E2B API key from https://e2b.dev/docs\n",
        "E2B_API_KEY = os.getenv(\"E2B_API_KEY\")\n",
        "\n",
        "\n",
        "SYSTEM_PROMPT = \"\"\"\n",
        "## your job & context\n",
        "you are a python data scientist. you are given tasks to complete and you run python code to solve them.\n",
        "You DO NOT MAKE SYNTAX MISTAKES OR FORGET ANY IMPORTS\n",
        "- the python code runs in jupyter notebook.\n",
        "- every time you call `execute_python` tool, the python code is executed in a separate cell. it's okay to multiple calls to `execute_python`.\n",
        "- display visualizations using matplotlib or any other visualization library directly in the notebook. don't worry about saving the visualizations to a file.\n",
        "- you have access to the internet and can make api requests.\n",
        "- you also have access to the filesystem and can read/write files.\n",
        "- you can install any pip package (if it exists) if you need to but the usual packages for data analysis are already preinstalled.\n",
        "- you can run any python code you want, everything is running in a secure sandbox environment.\n",
        "\"\"\"\n",
        "\n",
        "tools = [\n",
        "    {\n",
        "        \"type\": \"function\",\n",
        "        \"function\": {\n",
        "          \"name\": \"execute_python\",\n",
        "          \"description\": \"Execute python code in a Jupyter notebook cell and returns any result, stdout, stderr, display_data, and error.\",\n",
        "          \"parameters\": {\n",
        "              \"type\": \"object\",\n",
        "              \"properties\": {\n",
        "                  \"code\": {\n",
        "                      \"type\": \"string\",\n",
        "                      \"description\": \"The python code to execute in a single cell.\"\n",
        "                  }\n",
        "              },\n",
        "              \"required\": [\"code\"]\n",
        "          }\n",
        "        },\n",
        "    }\n",
        "]"
      ]
    },
    {
      "cell_type": "code",
      "execution_count": 3,
      "metadata": {
        "id": "k_bbA6P7NGOQ"
      },
      "outputs": [],
      "source": [
        "def code_interpret(e2b_code_interpreter, code):\n",
        "  print(\"Running code interpreter...\")\n",
        "  exec = e2b_code_interpreter.run_code(code,\n",
        "  on_stderr=lambda stderr: print(\"[Code Interpreter]\", stderr),\n",
        "  on_stdout=lambda stdout: print(\"[Code Interpreter]\", stdout))\n",
        "\n",
        "  if exec.error:\n",
        "    print(\"[Code Interpreter ERROR]\", exec.error)\n",
        "  else:\n",
        "    return exec.results"
      ]
    },
    {
      "cell_type": "code",
      "execution_count": 4,
      "metadata": {
        "id": "_1WPD2mAMjT2"
      },
      "outputs": [],
      "source": [
        "from openai import OpenAI\n",
        "import json\n",
        "\n",
        "client = OpenAI(api_key=OPENAI_API_KEY)\n",
        "\n",
        "def chat(e2b_code_interpreter, user_message, base64_image = None, ):\n",
        "  print(f\"\\n{'='*50}\\nUser Message: {user_message}\\n{'='*50}\")\n",
        "\n",
        "  messages = [\n",
        "      {\n",
        "          \"role\": \"system\",\n",
        "          \"content\": SYSTEM_PROMPT,\n",
        "      },\n",
        "  ]\n",
        "\n",
        "  if base64_image is not None:\n",
        "    messages.append(\n",
        "        {\n",
        "          \"role\": \"user\",\n",
        "          \"content\": [\n",
        "            {\n",
        "              \"type\": \"text\",\n",
        "              \"text\": user_message,\n",
        "            },\n",
        "            {\n",
        "              \"type\": \"image_url\",\n",
        "              \"image_url\": {\n",
        "                \"url\": f\"data:image/jpeg;base64,{base64_image}\"\n",
        "              }\n",
        "            }\n",
        "          ]\n",
        "        }\n",
        "    )\n",
        "  else:\n",
        "    messages.append(\n",
        "        {\"role\": \"user\", \"content\": user_message},\n",
        "    )\n",
        "\n",
        "  response = client.chat.completions.create(\n",
        "    model=\"gpt-4o\",\n",
        "    messages=messages,\n",
        "    tools=tools,\n",
        "    tool_choice=\"auto\"\n",
        "  )\n",
        "  for choice in response.choices:\n",
        "    if choice.message.tool_calls and len(choice.message.tool_calls) > 0:\n",
        "      for tool_call in choice.message.tool_calls:\n",
        "        if tool_call.function.name == \"execute_python\":\n",
        "          if isinstance(tool_call.function.arguments, dict) and \"code\" in tool_call.function.arguments:\n",
        "            code = tool_call.function.arguments[\"code\"]\n",
        "          else:\n",
        "            code = json.loads(tool_call.function.arguments)[\"code\"]\n",
        "\n",
        "            print(\"CODE TO RUN\")\n",
        "            print(code)\n",
        "            code_interpreter_results = code_interpret(e2b_code_interpreter, code)\n",
        "            return code_interpreter_results\n",
        "    else:\n",
        "      print(\"Answer:\", choice.message.content)\n",
        "\n"
      ]
    },
    {
      "cell_type": "code",
      "execution_count": null,
      "metadata": {
        "colab": {
          "base_uri": "https://localhost:8080/",
          "height": 1000
        },
        "id": "e2p2w9UqOX3L",
        "outputId": "45d46c4d-1c0a-4f14-8575-73459ff98816"
      },
      "outputs": [],
      "source": [
        "from e2b_code_interpreter import Sandbox\n",
        "code_interpreter = Sandbox(api_key=E2B_API_KEY)\n",
        "\n",
        "# 1. Ask GPT-4o to generate chart\n",
        "code_interpreter_results = chat(\n",
        "  code_interpreter,\n",
        "  \"Plot a chart visualizing the height distribution of men based on the data you know\",\n",
        ")\n",
        "print(code_interpreter_results)\n",
        "plot1 = code_interpreter_results[0]\n",
        "\n",
        "plot1"
      ]
    },
    {
      "cell_type": "code",
      "execution_count": null,
      "metadata": {
        "colab": {
          "base_uri": "https://localhost:8080/",
          "height": 992
        },
        "id": "NBaQLJuuVVBK",
        "outputId": "bcc55786-5bdc-49b8-9395-058a3f93b0b7"
      },
      "outputs": [],
      "source": [
        "# 2. Feed the image back the chart to GPT-4o and ask question about the image\n",
        "image = plot1.png\n",
        "code_interpreter_results = chat(\n",
        "  code_interpreter,\n",
        "  \"Based on what you see, what's name of this distribution? Make a plot of the distribution function\",\n",
        "  image,\n",
        ")\n",
        "\n",
        "code_interpreter.kill()\n",
        "\n",
        "print(code_interpreter_results)\n",
        "plot2 = code_interpreter_results[0]\n",
        "plot2"
      ]
    }
  ],
  "metadata": {
    "colab": {
      "provenance": []
    },
    "kernelspec": {
      "display_name": "E2B-magic",
      "language": "python",
      "name": "e2b-magic"
    },
    "language_info": {
      "codemirror_mode": {
        "name": "ipython",
        "version": 3
      },
      "file_extension": ".py",
      "mimetype": "text/x-python",
      "name": "python",
      "nbconvert_exporter": "python",
      "pygments_lexer": "ipython3",
      "version": "3.10.11"
    }
  },
  "nbformat": 4,
  "nbformat_minor": 0
}
